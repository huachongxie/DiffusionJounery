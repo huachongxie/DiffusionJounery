{
  "cells": [
    {
      "cell_type": "markdown",
      "metadata": {
        "id": "view-in-github",
        "colab_type": "text"
      },
      "source": [
        "<a href=\"https://colab.research.google.com/github/huachongxie/DiffusionJounery/blob/main/U4_Stable_Diffusion/U4_Stable_Diffusion_Pipline.ipynb\" target=\"_parent\"><img src=\"https://colab.research.google.com/assets/colab-badge.svg\" alt=\"Open In Colab\"/></a>"
      ]
    },
    {
      "cell_type": "code",
      "source": [
        "!pip install -Uq diffusers ftfy accelerate\n",
        "!pip install -Uq git+https://github.com/huggingface/transformers"
      ],
      "metadata": {
        "id": "DvjC5nXnW-p5"
      },
      "execution_count": null,
      "outputs": []
    },
    {
      "cell_type": "code",
      "execution_count": null,
      "metadata": {
        "id": "zHMYDXSRW20o"
      },
      "outputs": [],
      "source": [
        "import torch\n",
        "import requests\n",
        "from PIL import Image\n",
        "from io import BytesIO\n",
        "# from matplotlib import pyplot as plt\n",
        "\n",
        "# We'll be exploring a number of pipelines today!\n",
        "from diffusers import (\n",
        "    StableDiffusionPipeline,\n",
        "    StableDiffusionImg2ImgPipeline,\n",
        "    StableDiffusionInpaintPipeline,\n",
        "    StableDiffusionDepth2ImgPipeline\n",
        "    )\n",
        "\n",
        "# We'll use a couple of demo images later in the notebook\n",
        "def download_image(url):\n",
        "    response = requests.get(url)\n",
        "    return Image.open(BytesIO(response.content)).convert(\"RGB\")\n",
        "\n",
        "# Download images for inpainting example\n",
        "img_url = \"https://raw.githubusercontent.com/CompVis/latent-diffusion/main/data/inpainting_examples/overture-creations-5sI6fQgYIuo.png\"\n",
        "mask_url = \"https://raw.githubusercontent.com/CompVis/latent-diffusion/main/data/inpainting_examples/overture-creations-5sI6fQgYIuo_mask.png\"\n",
        "\n",
        "init_image = download_image(img_url).resize((512, 512))\n",
        "mask_image = download_image(mask_url).resize((512, 512))"
      ]
    },
    {
      "cell_type": "code",
      "execution_count": null,
      "metadata": {
        "id": "WRNq4SPhW20r"
      },
      "outputs": [],
      "source": [
        "# Set device\n",
        "device = (\n",
        "    \"mps\"\n",
        "    if torch.backends.mps.is_available()\n",
        "    else \"cuda\"\n",
        "    if torch.cuda.is_available()\n",
        "    else \"cpu\"\n",
        ")\n",
        "print(device)"
      ]
    },
    {
      "cell_type": "code",
      "source": [
        "model_id = \"stabilityai/stable-diffusion-2-1-base\"\n",
        "pipe = StableDiffusionPipeline.from_pretrained(model_id).to(device)"
      ],
      "metadata": {
        "id": "2jw2CW1uW60C"
      },
      "execution_count": null,
      "outputs": []
    },
    {
      "cell_type": "code",
      "source": [
        "# Set up a generator for reproducibility\n",
        "generator = torch.Generator(device=device).manual_seed(42)\n",
        "\n",
        "# Run the pipeline, showing some of the available arguments\n",
        "pipe_output = pipe(\n",
        "    prompt=\"Palette knife painting of an autumn cityscape\", # What to generate\n",
        "    negative_prompt=\"Oversaturated, blurry, low quality\", # What NOT to generate\n",
        "    height=480, width=640,     # Specify the image size\n",
        "    guidance_scale=8,          # How strongly to follow the prompt\n",
        "    num_inference_steps=35,    # How many steps to take\n",
        "    generator=generator        # Fixed random seed\n",
        ")\n",
        "\n",
        "# View the resulting image:\n",
        "pipe_output.images[0]"
      ],
      "metadata": {
        "id": "EhWgUY8hW3_j"
      },
      "execution_count": null,
      "outputs": []
    }
  ],
  "metadata": {
    "kernelspec": {
      "display_name": "mytorch",
      "language": "python",
      "name": "python3"
    },
    "language_info": {
      "codemirror_mode": {
        "name": "ipython",
        "version": 3
      },
      "file_extension": ".py",
      "mimetype": "text/x-python",
      "name": "python",
      "nbconvert_exporter": "python",
      "pygments_lexer": "ipython3",
      "version": "3.10.16"
    },
    "colab": {
      "provenance": [],
      "include_colab_link": true
    }
  },
  "nbformat": 4,
  "nbformat_minor": 0
}